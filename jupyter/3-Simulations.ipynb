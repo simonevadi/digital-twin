{
 "cells": [
  {
   "cell_type": "code",
   "execution_count": 2,
   "metadata": {},
   "outputs": [],
   "source": [
    "from raypyng import Simulate\n",
    "import numpy as np\n",
    "import os\n",
    "\n",
    "rml_folder = '../rml'\n",
    "rml_name = '../rml/elisa.rml'\n",
    "rml_path = os.path.join(rml_folder,rml_name)\n",
    "\n",
    "sim = Simulate(rml_path, hide=True)\n",
    "\n",
    "rml=sim.rml\n",
    "elisa = sim.rml.beamline\n",
    "\n"
   ]
  },
  {
   "cell_type": "code",
   "execution_count": 3,
   "metadata": {},
   "outputs": [
    {
     "name": "stdout",
     "output_type": "stream",
     "text": [
      "You have defined:\n",
      "4  independent parameters\n",
      "0  dependent parameters or set parameters\n",
      "16  simulations\n"
     ]
    }
   ],
   "source": [
    "# define the values of the parameters to scan \n",
    "energy    = np.arange(200, 7201,1000)\n",
    "SlitSize  = np.array([0.1, 0.2])\n",
    "cff       = np.array([2.25])\n",
    "nrays     = 10000\n",
    "\n",
    "# define a list of dictionaries with the parameters to scan\n",
    "params = [  \n",
    "            # set two parameters: \"alpha\" and \"beta\" in a dependent way. \n",
    "            {elisa.Dipole.photonEnergy:energy}, \n",
    "            # set a range of  values \n",
    "            {elisa.ExitSlit.totalHeight:SlitSize},\n",
    "            # set values \n",
    "            {elisa.PG.cFactor:cff},\n",
    "            {elisa.Dipole.numberRays:nrays}\n",
    "        ]\n",
    "\n",
    "#and then plug them into the Simulation class\n",
    "sim.params=params\n",
    "\n",
    "# sim.simulation_folder = '/home/simone/Documents/RAYPYNG/raypyng/test'\n",
    "sim.simulation_name = 'test_Analyze'\n",
    "\n",
    "# repeat the simulations as many time as needed\n",
    "sim.repeat = 1\n",
    "\n",
    "sim.analyze = True # let RAY-UI analyze the results\n",
    "## This must be a list of dictionaries\n",
    "sim.exports  =  [{elisa.Dipole:['ScalarElementProperties']},\n",
    "                {elisa.DetectorAtFocus:['ScalarBeamProperties']}\n",
    "                ]\n",
    "\n",
    "        "
   ]
  },
  {
   "cell_type": "code",
   "execution_count": 4,
   "metadata": {},
   "outputs": [
    {
     "name": "stdout",
     "output_type": "stream",
     "text": [
      "DEBUG:: start rml_list\n",
      "DEBUG:: end rml_list\n",
      "--- 0.1 seconds ---\n"
     ]
    },
    {
     "data": {
      "text/plain": [
       "[RMLFile('/home/simone/projects/digital-twin/jupyter/RAYPy_Simulation_test_Analyze/round_0/0_test_Analyze.rml',template='/home/simone/projects/digital-twin/jupyter/RAYPy_Simulation_test_Analyze/round_0/0_test_Analyze.rml'),\n",
       " RMLFile('/home/simone/projects/digital-twin/jupyter/RAYPy_Simulation_test_Analyze/round_0/1_test_Analyze.rml',template='/home/simone/projects/digital-twin/jupyter/RAYPy_Simulation_test_Analyze/round_0/1_test_Analyze.rml'),\n",
       " RMLFile('/home/simone/projects/digital-twin/jupyter/RAYPy_Simulation_test_Analyze/round_0/2_test_Analyze.rml',template='/home/simone/projects/digital-twin/jupyter/RAYPy_Simulation_test_Analyze/round_0/2_test_Analyze.rml'),\n",
       " RMLFile('/home/simone/projects/digital-twin/jupyter/RAYPy_Simulation_test_Analyze/round_0/3_test_Analyze.rml',template='/home/simone/projects/digital-twin/jupyter/RAYPy_Simulation_test_Analyze/round_0/3_test_Analyze.rml'),\n",
       " RMLFile('/home/simone/projects/digital-twin/jupyter/RAYPy_Simulation_test_Analyze/round_0/4_test_Analyze.rml',template='/home/simone/projects/digital-twin/jupyter/RAYPy_Simulation_test_Analyze/round_0/4_test_Analyze.rml'),\n",
       " RMLFile('/home/simone/projects/digital-twin/jupyter/RAYPy_Simulation_test_Analyze/round_0/5_test_Analyze.rml',template='/home/simone/projects/digital-twin/jupyter/RAYPy_Simulation_test_Analyze/round_0/5_test_Analyze.rml'),\n",
       " RMLFile('/home/simone/projects/digital-twin/jupyter/RAYPy_Simulation_test_Analyze/round_0/6_test_Analyze.rml',template='/home/simone/projects/digital-twin/jupyter/RAYPy_Simulation_test_Analyze/round_0/6_test_Analyze.rml'),\n",
       " RMLFile('/home/simone/projects/digital-twin/jupyter/RAYPy_Simulation_test_Analyze/round_0/7_test_Analyze.rml',template='/home/simone/projects/digital-twin/jupyter/RAYPy_Simulation_test_Analyze/round_0/7_test_Analyze.rml'),\n",
       " RMLFile('/home/simone/projects/digital-twin/jupyter/RAYPy_Simulation_test_Analyze/round_0/8_test_Analyze.rml',template='/home/simone/projects/digital-twin/jupyter/RAYPy_Simulation_test_Analyze/round_0/8_test_Analyze.rml'),\n",
       " RMLFile('/home/simone/projects/digital-twin/jupyter/RAYPy_Simulation_test_Analyze/round_0/9_test_Analyze.rml',template='/home/simone/projects/digital-twin/jupyter/RAYPy_Simulation_test_Analyze/round_0/9_test_Analyze.rml'),\n",
       " RMLFile('/home/simone/projects/digital-twin/jupyter/RAYPy_Simulation_test_Analyze/round_0/10_test_Analyze.rml',template='/home/simone/projects/digital-twin/jupyter/RAYPy_Simulation_test_Analyze/round_0/10_test_Analyze.rml'),\n",
       " RMLFile('/home/simone/projects/digital-twin/jupyter/RAYPy_Simulation_test_Analyze/round_0/11_test_Analyze.rml',template='/home/simone/projects/digital-twin/jupyter/RAYPy_Simulation_test_Analyze/round_0/11_test_Analyze.rml'),\n",
       " RMLFile('/home/simone/projects/digital-twin/jupyter/RAYPy_Simulation_test_Analyze/round_0/12_test_Analyze.rml',template='/home/simone/projects/digital-twin/jupyter/RAYPy_Simulation_test_Analyze/round_0/12_test_Analyze.rml'),\n",
       " RMLFile('/home/simone/projects/digital-twin/jupyter/RAYPy_Simulation_test_Analyze/round_0/13_test_Analyze.rml',template='/home/simone/projects/digital-twin/jupyter/RAYPy_Simulation_test_Analyze/round_0/13_test_Analyze.rml'),\n",
       " RMLFile('/home/simone/projects/digital-twin/jupyter/RAYPy_Simulation_test_Analyze/round_0/14_test_Analyze.rml',template='/home/simone/projects/digital-twin/jupyter/RAYPy_Simulation_test_Analyze/round_0/14_test_Analyze.rml'),\n",
       " RMLFile('/home/simone/projects/digital-twin/jupyter/RAYPy_Simulation_test_Analyze/round_0/15_test_Analyze.rml',template='/home/simone/projects/digital-twin/jupyter/RAYPy_Simulation_test_Analyze/round_0/15_test_Analyze.rml')]"
      ]
     },
     "execution_count": 4,
     "metadata": {},
     "output_type": "execute_result"
    }
   ],
   "source": [
    "# Optional: create the rml files for inspection\n",
    "sim.rml_list()"
   ]
  },
  {
   "cell_type": "code",
   "execution_count": 5,
   "metadata": {},
   "outputs": [
    {
     "name": "stdout",
     "output_type": "stream",
     "text": [
      "DEBUG:: start rml_list\n",
      "DEBUG:: end rml_list\n",
      "--- 0.14 seconds ---\n"
     ]
    },
    {
     "data": {
      "text/plain": [
       "True"
      ]
     },
     "execution_count": 5,
     "metadata": {},
     "output_type": "execute_result"
    }
   ],
   "source": [
    "# Run the simulations\n",
    "sim.run(multiprocessing=5, force=True)\n"
   ]
  },
  {
   "cell_type": "code",
   "execution_count": null,
   "metadata": {},
   "outputs": [],
   "source": []
  }
 ],
 "metadata": {
  "kernelspec": {
   "display_name": ".venv",
   "language": "python",
   "name": "python3"
  },
  "language_info": {
   "codemirror_mode": {
    "name": "ipython",
    "version": 3
   },
   "file_extension": ".py",
   "mimetype": "text/x-python",
   "name": "python",
   "nbconvert_exporter": "python",
   "pygments_lexer": "ipython3",
   "version": "3.10.12"
  }
 },
 "nbformat": 4,
 "nbformat_minor": 2
}
