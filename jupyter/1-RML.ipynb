{
 "cells": [
  {
   "cell_type": "code",
   "execution_count": 1,
   "metadata": {},
   "outputs": [],
   "source": [
    "from raypyng import RMLFile\n",
    "import os"
   ]
  },
  {
   "cell_type": "code",
   "execution_count": 2,
   "metadata": {},
   "outputs": [],
   "source": [
    "rml_folder = '../rml'\n",
    "rml_name = '../rml/elisa.rml'\n",
    "rml_path = os.path.join(rml_folder,rml_name)\n",
    "rml = RMLFile(rml_path)\n",
    "elisa = rml.beamline"
   ]
  },
  {
   "cell_type": "code",
   "execution_count": 3,
   "metadata": {},
   "outputs": [
    {
     "name": "stdout",
     "output_type": "stream",
     "text": [
      "OE  0 : Dipole\n",
      "OE  1 : M1\n",
      "OE  2 : PremirrorM2\n",
      "OE  3 : PG\n",
      "OE  4 : M3\n",
      "OE  5 : ExitSlit\n",
      "OE  6 : KB1\n",
      "OE  7 : KB2\n",
      "OE  8 : DetectorAtFocus\n"
     ]
    }
   ],
   "source": [
    "# list all the element present in the beamlne\n",
    "for i, oe in enumerate(elisa.children()):\n",
    "    print('OE ',i, ':', oe.resolvable_name())"
   ]
  },
  {
   "cell_type": "code",
   "execution_count": 28,
   "metadata": {},
   "outputs": [
    {
     "name": "stdout",
     "output_type": "stream",
     "text": [
      "Dipole param:  numberRays\n",
      "Dipole param:  sourceWidth\n",
      "Dipole param:  sourceHeight\n",
      "Dipole param:  verEbeamDiv\n",
      "Dipole param:  horDiv\n",
      "Dipole param:  electronEnergy\n",
      "Dipole param:  electronEnergyOrientation\n",
      "Dipole param:  bendingRadius\n",
      "Dipole param:  alignmentError\n",
      "Dipole param:  translationXerror\n",
      "Dipole param:  translationYerror\n",
      "Dipole param:  rotationXerror\n",
      "Dipole param:  rotationYerror\n",
      "Dipole param:  energyDistributionType\n",
      "Dipole param:  photonEnergyDistributionFile\n",
      "Dipole param:  photonEnergy\n",
      "Dipole param:  energySpreadType\n",
      "Dipole param:  energySpreadUnit\n",
      "Dipole param:  energySpread\n",
      "Dipole param:  sourcePulseType\n",
      "Dipole param:  sourcePulseLength\n",
      "Dipole param:  photonFlux\n",
      "Dipole param:  worldPosition\n",
      "Dipole param:  worldXdirection\n",
      "Dipole param:  worldYdirection\n",
      "Dipole param:  worldZdirection\n"
     ]
    }
   ],
   "source": [
    "# print all the parameters of the Dipole\n",
    "for param in elisa.Dipole.children():\n",
    "     print('Dipole param: ', param.id)"
   ]
  },
  {
   "cell_type": "code",
   "execution_count": 6,
   "metadata": {},
   "outputs": [
    {
     "data": {
      "text/plain": [
       "'1000'"
      ]
     },
     "execution_count": 6,
     "metadata": {},
     "output_type": "execute_result"
    }
   ],
   "source": [
    "# change the value of any parameter is easy\n",
    "elisa.Dipole.photonEnergy.cdata\n",
    "elisa.Dipole.photonEnergy.cdata = str(1000)\n",
    "elisa.Dipole.photonEnergy.cdata"
   ]
  },
  {
   "cell_type": "code",
   "execution_count": 7,
   "metadata": {},
   "outputs": [],
   "source": [
    "# once the modifications are done we can write save the rml file\n",
    "new_rml_name = 'new_elisa.rml'\n",
    "new_rml_path = os.path.join(rml_folder, new_rml_name)\n",
    "rml.write(new_rml_path)\n"
   ]
  },
  {
   "cell_type": "code",
   "execution_count": null,
   "metadata": {},
   "outputs": [],
   "source": []
  }
 ],
 "metadata": {
  "kernelspec": {
   "display_name": ".venv",
   "language": "python",
   "name": "python3"
  },
  "language_info": {
   "codemirror_mode": {
    "name": "ipython",
    "version": 3
   },
   "file_extension": ".py",
   "mimetype": "text/x-python",
   "name": "python",
   "nbconvert_exporter": "python",
   "pygments_lexer": "ipython3",
   "version": "3.10.12"
  }
 },
 "nbformat": 4,
 "nbformat_minor": 2
}
