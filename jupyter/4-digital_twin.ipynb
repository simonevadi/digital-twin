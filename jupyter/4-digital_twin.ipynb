{
 "cells": [
  {
   "cell_type": "code",
   "execution_count": 3,
   "metadata": {},
   "outputs": [],
   "source": [
    "import os\n",
    "from bluesky import RunEngine\n",
    "from raypyng_bluesky.RaypyngOphydDevices import RaypyngOphydDevices\n",
    "\n",
    "RE = RunEngine({})\n",
    "\n",
    "# Send all metadata/data captured to the BestEffortCallback.\n",
    "from bluesky.callbacks.best_effort import BestEffortCallback\n",
    "bec = BestEffortCallback()\n",
    "\n",
    "\n",
    "# # Make plots update live while scans run.\n",
    "# from bluesky.utils import install_kicker\n",
    "# install_kicker()\n",
    "\n",
    "# create a temporary database\n",
    "from databroker import Broker\n",
    "db = Broker.named('temp')\n",
    "RE.subscribe(db.insert)\n",
    "RE.subscribe(bec)\n",
    "\n",
    "# import the magics\n",
    "from bluesky.magics import BlueskyMagics\n",
    "get_ipython().register_magics(BlueskyMagics)\n",
    "\n",
    "# import plans\n",
    "from bluesky.plans import (\n",
    "    relative_scan as dscan,\n",
    "    scan, scan as ascan,\n",
    "    list_scan,\n",
    "    rel_list_scan,\n",
    "    rel_grid_scan,  rel_grid_scan as dmesh,\n",
    "    list_grid_scan,\n",
    "    adaptive_scan,\n",
    "    rel_adaptive_scan,\n",
    "    inner_product_scan            as a2scan,\n",
    "    relative_inner_product_scan   as d2scan,\n",
    "    tweak)\n",
    "\n",
    "# import stubs\n",
    "from bluesky.plan_stubs import (\n",
    "    abs_set,rel_set,\n",
    "    mv, mvr,\n",
    "    trigger,\n",
    "    read, rd,\n",
    "    stage, unstage,\n",
    "    configure,\n",
    "    stop)"
   ]
  },
  {
   "cell_type": "code",
   "execution_count": 4,
   "metadata": {},
   "outputs": [
    {
     "data": {
      "text/plain": [
       "<raypyng_bluesky.RaypyngOphydDevices.RaypyngOphydDevices at 0x7fdcc7fa7df0>"
      ]
     },
     "execution_count": 4,
     "metadata": {},
     "output_type": "execute_result"
    }
   ],
   "source": [
    "# insert here the path to the rml file that you want to use\n",
    "rml_folder = '../rml'\n",
    "rml_name = '../rml/elisa.rml'\n",
    "rml_path = os.path.join(rml_folder,rml_name)\n",
    "\n",
    "RaypyngOphydDevices(RE=RE, rml_path=rml_path, temporary_folder=None, name_space=None, prefix=None, ray_ui_location=None)"
   ]
  },
  {
   "cell_type": "code",
   "execution_count": 11,
   "metadata": {},
   "outputs": [
    {
     "data": {
      "text/plain": [
       "('en', 'nrays', 'bandwidth')"
      ]
     },
     "execution_count": 11,
     "metadata": {},
     "output_type": "execute_result"
    }
   ],
   "source": [
    "rp_Dipole.component_names"
   ]
  },
  {
   "cell_type": "code",
   "execution_count": 10,
   "metadata": {},
   "outputs": [
    {
     "data": {
      "text/plain": [
       "OrderedDict([('rp_Dipole_en_setpoint',\n",
       "              {'value': 1000.0, 'timestamp': 1706200634.2341456}),\n",
       "             ('rp_Dipole_en',\n",
       "              {'value': 1000.0, 'timestamp': 1706200634.2341683}),\n",
       "             ('rp_Dipole_nrays_setpoint',\n",
       "              {'value': 100000.0, 'timestamp': 1706200634.2342644}),\n",
       "             ('rp_Dipole_nrays',\n",
       "              {'value': 100000.0, 'timestamp': 1706200634.234287}),\n",
       "             ('rp_Dipole_bandwidth_setpoint',\n",
       "              {'value': 0.1, 'timestamp': 1706200634.2345407}),\n",
       "             ('rp_Dipole_bandwidth',\n",
       "              {'value': 0.1, 'timestamp': 1706200634.2345495})])"
      ]
     },
     "execution_count": 10,
     "metadata": {},
     "output_type": "execute_result"
    }
   ],
   "source": [
    "rp_Dipole.read()"
   ]
  },
  {
   "cell_type": "code",
   "execution_count": 14,
   "metadata": {},
   "outputs": [
    {
     "data": {
      "text/plain": [
       "100000.0"
      ]
     },
     "execution_count": 14,
     "metadata": {},
     "output_type": "execute_result"
    }
   ],
   "source": [
    "rp_Dipole.nrays.get()"
   ]
  },
  {
   "cell_type": "code",
   "execution_count": 18,
   "metadata": {},
   "outputs": [
    {
     "data": {
      "text/plain": [
       "1000.0"
      ]
     },
     "execution_count": 18,
     "metadata": {},
     "output_type": "execute_result"
    }
   ],
   "source": [
    "rp_Dipole.nrays.set(1000)\n",
    "rp_Dipole.nrays.get()"
   ]
  },
  {
   "cell_type": "code",
   "execution_count": 19,
   "metadata": {},
   "outputs": [
    {
     "name": "stdout",
     "output_type": "stream",
     "text": [
      "\n",
      "\n",
      "Transient Scan ID: 2     Time: 2024-01-25 17:41:54\n",
      "Persistent Unique Scan ID: 'bd35a272-dc12-4f88-ba72-914d03d583b4'\n",
      "New stream: 'primary'\n",
      "+-----------+------------+--------------+---------------------------------------+\n",
      "|   seq_num |       time | rp_Dipole_en | rp_DetectorAtFocus_intensity[photons] |\n",
      "+-----------+------------+--------------+---------------------------------------+\n",
      "|         1 | 17:41:55.5 |      200.000 |                      234618120000.000 |\n",
      "|         2 | 17:41:56.1 |      400.000 |                      330819300000.000 |\n",
      "|         3 | 17:41:56.7 |      600.000 |                      365776800000.000 |\n",
      "|         4 | 17:41:57.3 |      800.000 |                      710368410000.000 |\n",
      "|         5 | 17:41:57.8 |     1000.000 |                      541420560000.000 |\n",
      "|         6 | 17:41:58.5 |     1200.000 |                      549015000000.000 |\n",
      "|         7 | 17:41:59.2 |     1400.000 |                      530355000000.000 |\n",
      "|         8 | 17:42:00.2 |     1600.000 |                      713259750000.000 |\n",
      "|         9 | 17:42:01.1 |     1800.000 |                     1052633880000.000 |\n",
      "|        10 | 17:42:01.9 |     2000.000 |                      817677960000.000 |\n",
      "|        11 | 17:42:02.7 |     2200.000 |                      565386240000.000 |\n",
      "+-----------+------------+--------------+---------------------------------------+\n",
      "generator scan ['bd35a272'] (scan num: 2)\n",
      "\n",
      "\n",
      "\n"
     ]
    },
    {
     "data": {
      "text/plain": [
       "('bd35a272-dc12-4f88-ba72-914d03d583b4',)"
      ]
     },
     "execution_count": 19,
     "metadata": {},
     "output_type": "execute_result"
    },
    {
     "data": {
      "image/png": "[encoded data removed]",
      "text/plain": [
       "<Figure size 500x500 with 1 Axes>"
      ]
     },
     "metadata": {},
     "output_type": "display_data"
    }
   ],
   "source": [
    "RE(scan([rp_DetectorAtFocus.intensity], rp_Dipole.en, 200, 2200, 11))"
   ]
  },
  {
   "cell_type": "code",
   "execution_count": null,
   "metadata": {},
   "outputs": [],
   "source": []
  }
 ],
 "metadata": {
  "kernelspec": {
   "display_name": ".venv",
   "language": "python",
   "name": "python3"
  },
  "language_info": {
   "codemirror_mode": {
    "name": "ipython",
    "version": 3
   },
   "file_extension": ".py",
   "mimetype": "text/x-python",
   "name": "python",
   "nbconvert_exporter": "python",
   "pygments_lexer": "ipython3",
   "version": "3.10.12"
  }
 },
 "nbformat": 4,
 "nbformat_minor": 2
}
