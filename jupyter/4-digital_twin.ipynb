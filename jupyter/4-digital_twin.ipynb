{
 "cells": [
  {
   "cell_type": "code",
   "execution_count": null,
   "metadata": {},
   "outputs": [],
   "source": [
    "import os\n",
    "from bluesky import RunEngine\n",
    "from raypyng_bluesky.RaypyngOphydDevices import RaypyngOphydDevices\n",
    "\n",
    "RE = RunEngine({})\n",
    "\n",
    "# Send all metadata/data captured to the BestEffortCallback.\n",
    "from bluesky.callbacks.best_effort import BestEffortCallback\n",
    "bec = BestEffortCallback()\n",
    "\n",
    "\n",
    "# # Make plots update live while scans run.\n",
    "# from bluesky.utils import install_kicker\n",
    "# install_kicker()\n",
    "\n",
    "# create a temporary database\n",
    "from databroker import Broker\n",
    "db = Broker.named('temp')\n",
    "RE.subscribe(db.insert)\n",
    "RE.subscribe(bec)\n",
    "\n",
    "# import the magics\n",
    "from bluesky.magics import BlueskyMagics\n",
    "get_ipython().register_magics(BlueskyMagics)\n",
    "\n",
    "# import plans\n",
    "from bluesky.plans import (\n",
    "    relative_scan as dscan,\n",
    "    scan, scan as ascan,\n",
    "    list_scan,\n",
    "    rel_list_scan,\n",
    "    rel_grid_scan,  rel_grid_scan as dmesh,\n",
    "    list_grid_scan,\n",
    "    adaptive_scan,\n",
    "    rel_adaptive_scan,\n",
    "    inner_product_scan            as a2scan,\n",
    "    relative_inner_product_scan   as d2scan,\n",
    "    tweak)\n",
    "\n",
    "# import stubs\n",
    "from bluesky.plan_stubs import (\n",
    "    abs_set,rel_set,\n",
    "    mv, mvr,\n",
    "    trigger,\n",
    "    read, rd,\n",
    "    stage, unstage,\n",
    "    configure,\n",
    "    stop)"
   ]
  },
  {
   "cell_type": "code",
   "execution_count": null,
   "metadata": {},
   "outputs": [],
   "source": [
    "# insert here the path to the rml file that you want to use\n",
    "rml_folder = '../rml'\n",
    "rml_name = '../rml/elisa.rml'\n",
    "rml_path = os.path.join(rml_folder,rml_name)\n",
    "\n",
    "RaypyngOphydDevices(RE=RE, rml_path=rml_path, temporary_folder=None, name_space=None, prefix=None, ray_ui_location=None)"
   ]
  },
  {
   "cell_type": "code",
   "execution_count": null,
   "metadata": {},
   "outputs": [],
   "source": [
    "rp_Dipole.component_names"
   ]
  },
  {
   "cell_type": "code",
   "execution_count": null,
   "metadata": {},
   "outputs": [],
   "source": [
    "rp_Dipole.read()"
   ]
  },
  {
   "cell_type": "code",
   "execution_count": null,
   "metadata": {},
   "outputs": [],
   "source": [
    "rp_Dipole.nrays.get()"
   ]
  },
  {
   "cell_type": "code",
   "execution_count": null,
   "metadata": {},
   "outputs": [],
   "source": [
    "rp_Dipole.nrays.set(1000)\n",
    "rp_Dipole.nrays.get()"
   ]
  },
  {
   "cell_type": "code",
   "execution_count": null,
   "metadata": {},
   "outputs": [],
   "source": [
    "RE(scan([rp_DetectorAtFocus.intensity], rp_Dipole.en, 200, 2200, 11))"
   ]
  },
  {
   "cell_type": "code",
   "execution_count": null,
   "metadata": {},
   "outputs": [],
   "source": []
  }
 ],
 "metadata": {
  "kernelspec": {
   "display_name": ".venv",
   "language": "python",
   "name": "python3"
  },
  "language_info": {
   "codemirror_mode": {
    "name": "ipython",
    "version": 3
   },
   "file_extension": ".py",
   "mimetype": "text/x-python",
   "name": "python",
   "nbconvert_exporter": "python",
   "pygments_lexer": "ipython3",
   "version": "3.10.12"
  }
 },
 "nbformat": 4,
 "nbformat_minor": 2
}
